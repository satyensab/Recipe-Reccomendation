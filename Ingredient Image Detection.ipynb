{
 "cells": [
  {
   "cell_type": "code",
   "execution_count": 1,
   "metadata": {
    "collapsed": true
   },
   "outputs": [
    {
     "name": "stderr",
     "output_type": "stream",
     "text": [
      "C:\\Users\\Satyen\\anaconda3\\envs\\py3XD\\lib\\site-packages\\scipy\\__init__.py:155: UserWarning: A NumPy version >=1.18.5 and <1.26.0 is required for this version of SciPy (detected version 1.26.2\n",
      "  warnings.warn(f\"A NumPy version >={np_minversion} and <{np_maxversion}\"\n"
     ]
    }
   ],
   "source": [
    "import tensorflow as tf\n",
    "from tensorflow.keras import datasets, layers, models\n",
    "import matplotlib.pyplot as plt\n",
    "import numpy as np\n",
    "from sklearn.preprocessing import StandardScaler\n",
    "from sklearn.model_selection import train_test_split"
   ]
  },
  {
   "cell_type": "markdown",
   "source": [
    "Load in Images From Folder"
   ],
   "metadata": {
    "collapsed": false
   }
  },
  {
   "cell_type": "code",
   "execution_count": 2,
   "outputs": [],
   "source": [
    "from tensorflow.keras.preprocessing.image import img_to_array, load_img\n",
    "import os\n",
    "# current_path = os.getcwd()\n",
    "# print(current_path)\n",
    "\n",
    "dir_path = 'C:\\\\Users\\\\Satyen\\\\Documents\\\\College\\\\Fall 2023\\\\Data Science\\\\Final Project\\\\Ingredients\\\\train'\n",
    "\n",
    "train_data = []\n",
    "\n",
    "class_label_arr = []\n",
    "for class_label in os.listdir(dir_path):\n",
    "    class_label_arr.append(class_label)\n",
    "# image"
   ],
   "metadata": {
    "collapsed": false
   }
  },
  {
   "cell_type": "markdown",
   "source": [
    "Preprocessing"
   ],
   "metadata": {
    "collapsed": false
   }
  },
  {
   "cell_type": "code",
   "execution_count": 3,
   "outputs": [
    {
     "name": "stdout",
     "output_type": "stream",
     "text": [
      "Found 3157 images belonging to 37 classes.\n",
      "Found 361 images belonging to 37 classes.\n"
     ]
    }
   ],
   "source": [
    "import tensorflow as tf\n",
    "from tensorflow.keras.preprocessing.image import ImageDataGenerator\n",
    "\n",
    "train_path = 'C:\\\\Users\\\\Satyen\\\\Documents\\\\College\\\\Fall 2023\\\\Data Science\\\\Final Project\\\\Ingredients\\\\train'\n",
    "\n",
    "validation_path = 'C:\\\\Users\\\\Satyen\\\\Documents\\\\College\\\\Fall 2023\\\\Data Science\\\\Final Project\\\\Ingredients\\\\validation'\n",
    "\n",
    "tg_height, tg_width = 500,500\n",
    "\n",
    "train_dataGen = ImageDataGenerator(rescale=1./255)  # Normalize pixel values)\n",
    "\n",
    "validation_dataGen = ImageDataGenerator(rescale=1./255)\n",
    "\n",
    "train_gen = train_dataGen.flow_from_directory(\n",
    "    train_path,\n",
    "    target_size=(tg_height, tg_width),\n",
    "    batch_size=32,\n",
    "    class_mode='categorical',\n",
    "    shuffle=True\n",
    ")\n",
    "\n",
    "validation_gen = validation_dataGen.flow_from_directory(\n",
    "    validation_path,\n",
    "    target_size=(tg_height, tg_width),\n",
    "    batch_size=32,\n",
    "    class_mode='categorical',\n",
    "    shuffle=False\n",
    ")\n",
    "\n"
   ],
   "metadata": {
    "collapsed": false
   }
  },
  {
   "cell_type": "code",
   "execution_count": 4,
   "outputs": [
    {
     "name": "stdout",
     "output_type": "stream",
     "text": [
      "37\n"
     ]
    }
   ],
   "source": [
    "print(train_gen.num_classes)"
   ],
   "metadata": {
    "collapsed": false
   }
  },
  {
   "cell_type": "code",
   "execution_count": 5,
   "outputs": [],
   "source": [
    "cnn = tf.keras.models.Sequential([\n",
    "\n",
    "    #feature extraction\n",
    "    layers.Conv2D(filters = 32, kernel_size = (3,3), activation = 'relu', input_shape=(500,500,3)),\n",
    "    layers.MaxPooling2D((4,4)),\n",
    "    layers.Conv2D(filters = 64, kernel_size = (2,2), activation = 'relu'),\n",
    "    layers.MaxPooling2D((2,2)),\n",
    "    layers.Conv2D(filters = 64, kernel_size = (2,2), activation = 'relu'),\n",
    "    layers.MaxPooling2D((4,4)),\n",
    "    layers.Dropout(0.3),\n",
    "\n",
    "    layers.Flatten(),\n",
    "    layers.Dense(128, activation = 'relu'),\n",
    "    layers.Dense(train_gen.num_classes, activation = 'softmax')\n",
    "])"
   ],
   "metadata": {
    "collapsed": false
   }
  },
  {
   "cell_type": "code",
   "execution_count": 6,
   "outputs": [
    {
     "name": "stdout",
     "output_type": "stream",
     "text": [
      "Epoch 1/15\n",
      "15/99 [===>..........................] - ETA: 11:45 - loss: 3.6247 - accuracy: 0.0312"
     ]
    },
    {
     "name": "stderr",
     "output_type": "stream",
     "text": [
      "C:\\Users\\Satyen\\anaconda3\\envs\\py3XD\\lib\\site-packages\\PIL\\Image.py:979: UserWarning: Palette images with Transparency expressed in bytes should be converted to RGBA images\n",
      "  warnings.warn(\n"
     ]
    },
    {
     "name": "stdout",
     "output_type": "stream",
     "text": [
      "99/99 [==============================] - 525s 5s/step - loss: 3.2234 - accuracy: 0.1052 - val_loss: 2.5131 - val_accuracy: 0.2576\n",
      "Epoch 2/15\n",
      "99/99 [==============================] - 437s 4s/step - loss: 2.4974 - accuracy: 0.2677 - val_loss: 1.8217 - val_accuracy: 0.4848\n",
      "Epoch 3/15\n",
      "99/99 [==============================] - 542s 5s/step - loss: 2.0063 - accuracy: 0.4131 - val_loss: 1.3041 - val_accuracy: 0.6233\n",
      "Epoch 4/15\n",
      "99/99 [==============================] - 464s 5s/step - loss: 1.6076 - accuracy: 0.5283 - val_loss: 0.8198 - val_accuracy: 0.7839\n",
      "Epoch 5/15\n",
      "99/99 [==============================] - 492s 5s/step - loss: 1.1640 - accuracy: 0.6598 - val_loss: 0.5381 - val_accuracy: 0.8753\n",
      "Epoch 6/15\n",
      "99/99 [==============================] - 483s 5s/step - loss: 0.8031 - accuracy: 0.7608 - val_loss: 0.4834 - val_accuracy: 0.8837\n",
      "Epoch 7/15\n",
      "99/99 [==============================] - 470s 5s/step - loss: 0.5291 - accuracy: 0.8438 - val_loss: 0.3840 - val_accuracy: 0.9003\n",
      "Epoch 8/15\n",
      "99/99 [==============================] - 489s 5s/step - loss: 0.3768 - accuracy: 0.8898 - val_loss: 0.4740 - val_accuracy: 0.8975\n",
      "Epoch 9/15\n",
      "99/99 [==============================] - 507s 5s/step - loss: 0.2689 - accuracy: 0.9180 - val_loss: 0.3032 - val_accuracy: 0.9418\n",
      "Epoch 10/15\n",
      "99/99 [==============================] - 476s 5s/step - loss: 0.2047 - accuracy: 0.9420 - val_loss: 0.3617 - val_accuracy: 0.9280\n",
      "Epoch 11/15\n",
      "99/99 [==============================] - 481s 5s/step - loss: 0.1757 - accuracy: 0.9446 - val_loss: 0.3967 - val_accuracy: 0.9446\n",
      "Epoch 12/15\n",
      "99/99 [==============================] - 478s 5s/step - loss: 0.1597 - accuracy: 0.9547 - val_loss: 0.4457 - val_accuracy: 0.9224\n",
      "Epoch 13/15\n",
      "99/99 [==============================] - 491s 5s/step - loss: 0.1558 - accuracy: 0.9595 - val_loss: 0.3049 - val_accuracy: 0.9474\n",
      "Epoch 14/15\n",
      "99/99 [==============================] - 480s 5s/step - loss: 0.1057 - accuracy: 0.9747 - val_loss: 0.3993 - val_accuracy: 0.9446\n",
      "Epoch 15/15\n",
      "99/99 [==============================] - 480s 5s/step - loss: 0.1169 - accuracy: 0.9709 - val_loss: 0.3814 - val_accuracy: 0.9446\n"
     ]
    },
    {
     "data": {
      "text/plain": "<keras.src.callbacks.History at 0x237dec17d30>"
     },
     "execution_count": 6,
     "metadata": {},
     "output_type": "execute_result"
    }
   ],
   "source": [
    "cnn.compile(optimizer = tf.keras.optimizers.Adam(learning_rate = 0.001),\n",
    "            loss = \"categorical_crossentropy\",\n",
    "            metrics = ['accuracy'])\n",
    "\n",
    "cnn.fit(train_gen, epochs = 15, validation_data = validation_gen, batch_size=64)"
   ],
   "metadata": {
    "collapsed": false
   }
  },
  {
   "cell_type": "code",
   "execution_count": 7,
   "outputs": [
    {
     "name": "stdout",
     "output_type": "stream",
     "text": [
      "Found 368 images belonging to 37 classes.\n"
     ]
    }
   ],
   "source": [
    "test_path = 'C:\\\\Users\\\\Satyen\\\\Documents\\\\College\\\\Fall 2023\\\\Data Science\\\\Final Project\\\\Ingredients\\\\test'\n",
    "\n",
    "\n",
    "\n",
    "test_gen = validation_dataGen.flow_from_directory(\n",
    "    test_path,\n",
    "    target_size=(tg_height, tg_width),\n",
    "    batch_size=32,\n",
    "    class_mode='categorical',\n",
    "    shuffle=False\n",
    ")"
   ],
   "metadata": {
    "collapsed": false
   }
  },
  {
   "cell_type": "code",
   "execution_count": 8,
   "outputs": [
    {
     "name": "stdout",
     "output_type": "stream",
     "text": [
      "12/12 [==============================] - 34s 3s/step - loss: 0.3782 - accuracy: 0.9429\n"
     ]
    },
    {
     "data": {
      "text/plain": "[0.3781841993331909, 0.9429348111152649]"
     },
     "execution_count": 8,
     "metadata": {},
     "output_type": "execute_result"
    }
   ],
   "source": [
    "cnn.evaluate(test_gen)"
   ],
   "metadata": {
    "collapsed": false
   }
  },
  {
   "cell_type": "code",
   "execution_count": 9,
   "outputs": [
    {
     "name": "stderr",
     "output_type": "stream",
     "text": [
      "C:\\Users\\Satyen\\AppData\\Local\\Temp\\ipykernel_10228\\852676990.py:3: UserWarning: `Model.predict_generator` is deprecated and will be removed in a future version. Please use `Model.predict`, which supports generators.\n",
      "  y_pred = cnn.predict_generator(test_gen, steps=len(test_gen))\n"
     ]
    },
    {
     "name": "stdout",
     "output_type": "stream",
     "text": [
      "               precision    recall  f1-score   support\n",
      "\n",
      "        apple       1.00      0.78      0.88         9\n",
      "       banana       1.00      0.89      0.94         9\n",
      "     beetroot       1.00      1.00      1.00        10\n",
      "  bell pepper       0.91      1.00      0.95        10\n",
      "      cabbage       1.00      1.00      1.00        10\n",
      "     capsicum       1.00      0.90      0.95        10\n",
      "       carrot       0.90      0.90      0.90        10\n",
      "  cauliflower       0.91      1.00      0.95        10\n",
      "      chicken       0.75      0.30      0.43        10\n",
      "chilli pepper       0.90      0.90      0.90        10\n",
      "         corn       0.83      1.00      0.91        10\n",
      "     cucumber       1.00      1.00      1.00        10\n",
      "     eggplant       1.00      1.00      1.00        10\n",
      "       garlic       0.77      1.00      0.87        10\n",
      "       ginger       1.00      1.00      1.00        10\n",
      "       grapes       1.00      1.00      1.00        10\n",
      "     jalepeno       1.00      1.00      1.00        10\n",
      "         kiwi       1.00      1.00      1.00        10\n",
      "        lemon       1.00      1.00      1.00        10\n",
      "      lettuce       1.00      1.00      1.00        10\n",
      "        mango       1.00      1.00      1.00        10\n",
      "        onion       0.91      1.00      0.95        10\n",
      "       orange       1.00      0.90      0.95        10\n",
      "      paprika       1.00      1.00      1.00        10\n",
      "         pear       0.83      1.00      0.91        10\n",
      "         peas       1.00      0.90      0.95        10\n",
      "    pineapple       1.00      1.00      1.00        10\n",
      "  pomegranate       0.91      1.00      0.95        10\n",
      "       potato       0.75      0.90      0.82        10\n",
      "      raddish       0.91      1.00      0.95        10\n",
      "    soy beans       1.00      1.00      1.00        10\n",
      "      spinach       0.91      1.00      0.95        10\n",
      "    sweetcorn       0.89      0.80      0.84        10\n",
      "  sweetpotato       1.00      0.70      0.82        10\n",
      "       tomato       1.00      1.00      1.00        10\n",
      "       turnip       1.00      1.00      1.00        10\n",
      "   watermelon       0.91      1.00      0.95        10\n",
      "\n",
      "     accuracy                           0.94       368\n",
      "    macro avg       0.95      0.94      0.94       368\n",
      " weighted avg       0.95      0.94      0.94       368\n",
      "\n"
     ]
    }
   ],
   "source": [
    "from sklearn.metrics import classification_report\n",
    "\n",
    "y_pred = cnn.predict_generator(test_gen, steps=len(test_gen))\n",
    "y_pred_class = np.argmax(y_pred, axis=1)\n",
    "y_actual = test_gen.classes\n",
    "\n",
    "rep = classification_report(y_actual, y_pred_class, target_names=test_gen.class_indices.keys())\n",
    "\n",
    "print(rep)"
   ],
   "metadata": {
    "collapsed": false
   }
  },
  {
   "cell_type": "code",
   "execution_count": 54,
   "outputs": [
    {
     "name": "stdout",
     "output_type": "stream",
     "text": [
      "['apple', 'banana', 'beetroot', 'bell pepper', 'cabbage', 'capsicum', 'carrot', 'cauliflower', 'chicken', 'chilli pepper', 'corn', 'cucumber', 'eggplant', 'garlic', 'ginger', 'grapes', 'jalepeno', 'kiwi', 'lemon', 'lettuce', 'mango', 'onion', 'orange', 'paprika', 'pear', 'peas', 'pineapple', 'pomegranate', 'potato', 'raddish', 'soy beans', 'spinach', 'sweetcorn', 'sweetpotato', 'tomato', 'turnip', 'watermelon']\n",
      "1/1 [==============================] - 0s 48ms/step\n",
      "watermelon\n"
     ]
    }
   ],
   "source": [
    "from tensorflow.keras.preprocessing.image import load_img, img_to_array\n",
    "import numpy as np\n",
    "\n",
    "\n",
    "print(class_label_arr)\n",
    "img_path = 'C:\\\\Users\\\\Satyen\\\\Documents\\\\College\\\\Fall 2023\\\\Data Science\\\\Final Project\\\\Ingredients\\\\predict\\\\watermelon.jpeg'\n",
    "\n",
    "image = load_img(img_path, target_size = (500,500))\n",
    "\n",
    "img_array = img_to_array(image)\n",
    "# img_array = np.expand_dims(img_array, axis=0)\n",
    "img_array = np.array([img_array])\n",
    "\n",
    "#Normalize image\n",
    "img_array = img_array / 255.0\n",
    "\n",
    "pred = cnn.predict(img_array)\n",
    "predicted_class = class_label_arr[np.argmax(pred)]\n",
    "print(predicted_class)\n",
    "# img_array = image.img\n"
   ],
   "metadata": {
    "collapsed": false
   }
  },
  {
   "cell_type": "code",
   "execution_count": 52,
   "outputs": [
    {
     "ename": "NameError",
     "evalue": "name 'model' is not defined",
     "output_type": "error",
     "traceback": [
      "\u001B[1;31m---------------------------------------------------------------------------\u001B[0m",
      "\u001B[1;31mNameError\u001B[0m                                 Traceback (most recent call last)",
      "\u001B[1;32m~\\AppData\\Local\\Temp\\ipykernel_10228\\1140394296.py\u001B[0m in \u001B[0;36m<module>\u001B[1;34m\u001B[0m\n\u001B[0;32m      1\u001B[0m \u001B[1;31m# cnn.save(\"ing_detection_model.h5\")\u001B[0m\u001B[1;33m\u001B[0m\u001B[1;33m\u001B[0m\u001B[0m\n\u001B[1;32m----> 2\u001B[1;33m \u001B[0mmodel\u001B[0m\u001B[1;33m.\u001B[0m\u001B[0msave\u001B[0m\u001B[1;33m(\u001B[0m\u001B[0mcnn\u001B[0m\u001B[1;33m.\u001B[0m\u001B[0mkeras\u001B[0m\u001B[1;33m)\u001B[0m\u001B[1;33m\u001B[0m\u001B[1;33m\u001B[0m\u001B[0m\n\u001B[0m",
      "\u001B[1;31mNameError\u001B[0m: name 'model' is not defined"
     ]
    }
   ],
   "source": [
    "cnn.save(\"ing_detection_model.h5\")"
   ],
   "metadata": {
    "collapsed": false
   }
  },
  {
   "cell_type": "code",
   "execution_count": null,
   "outputs": [],
   "source": [],
   "metadata": {
    "collapsed": false
   }
  }
 ],
 "metadata": {
  "kernelspec": {
   "display_name": "Python 3",
   "language": "python",
   "name": "python3"
  },
  "language_info": {
   "codemirror_mode": {
    "name": "ipython",
    "version": 2
   },
   "file_extension": ".py",
   "mimetype": "text/x-python",
   "name": "python",
   "nbconvert_exporter": "python",
   "pygments_lexer": "ipython2",
   "version": "2.7.6"
  }
 },
 "nbformat": 4,
 "nbformat_minor": 0
}
